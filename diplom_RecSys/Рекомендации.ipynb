{
 "cells": [
  {
   "cell_type": "code",
   "execution_count": null,
   "metadata": {
    "colab": {
     "base_uri": "https://localhost:8080/"
    },
    "executionInfo": {
     "elapsed": 17677,
     "status": "ok",
     "timestamp": 1758882350191,
     "user": {
      "displayName": "Olya Chistotina",
      "userId": "09379171093877778864"
     },
     "user_tz": -180
    },
    "id": "AxN7MQek59t0",
    "outputId": "8ad10c82-d2ac-4923-930a-8507abb9a8bf"
   },
   "outputs": [],
   "source": [
    "from google.colab import drive\n",
    "drive.mount('/content/drive')"
   ]
  },
  {
   "cell_type": "code",
   "execution_count": null,
   "metadata": {
    "id": "ZXRFPMrK8VlD"
   },
   "outputs": [],
   "source": [
    "import shutil\n",
    "\n",
    "# Перемещаем файл модели на Google Диск\n",
    "shutil.move('svd_model.pkl', '/content/drive/MyDrive/svd_model.pkl')\n",
    "\n",
    "# Сохраняем файл с фильмами на Google Диск\n",
    "movies.to_csv('/content/drive/MyDrive/movies.csv', index=False)"
   ]
  },
  {
   "cell_type": "code",
   "execution_count": null,
   "metadata": {
    "colab": {
     "base_uri": "https://localhost:8080/"
    },
    "executionInfo": {
     "elapsed": 75277,
     "status": "ok",
     "timestamp": 1758882155818,
     "user": {
      "displayName": "Olya Chistotina",
      "userId": "09379171093877778864"
     },
     "user_tz": -180
    },
    "id": "kByK1baHQF8D",
    "outputId": "c98f694e-cea1-48ea-e615-09ccb1f34bf8"
   },
   "outputs": [],
   "source": [
    "! pip install scikit-surprise"
   ]
  },
  {
   "cell_type": "code",
   "execution_count": null,
   "metadata": {
    "colab": {
     "base_uri": "https://localhost:8080/"
    },
    "executionInfo": {
     "elapsed": 741247,
     "status": "ok",
     "timestamp": 1758713661509,
     "user": {
      "displayName": "Olya Chistotina",
      "userId": "09379171093877778864"
     },
     "user_tz": -180
    },
    "id": "5WdMRK9zQCkq",
    "outputId": "dbd721b7-6428-4a65-c676-b789e4c31aa7"
   },
   "outputs": [],
   "source": [
    "! pip install implicit"
   ]
  },
  {
   "cell_type": "code",
   "execution_count": null,
   "metadata": {
    "colab": {
     "base_uri": "https://localhost:8080/"
    },
    "executionInfo": {
     "elapsed": 8915,
     "status": "ok",
     "timestamp": 1758710507321,
     "user": {
      "displayName": "Olya Chistotina",
      "userId": "09379171093877778864"
     },
     "user_tz": -180
    },
    "id": "j-dG0FmXP6bB",
    "outputId": "569f5958-3750-4088-dfd5-972908092884"
   },
   "outputs": [],
   "source": [
    "! pip install catboost"
   ]
  },
  {
   "cell_type": "code",
   "execution_count": null,
   "metadata": {
    "colab": {
     "base_uri": "https://localhost:8080/",
     "height": 391
    },
    "executionInfo": {
     "elapsed": 11637,
     "status": "ok",
     "timestamp": 1758882021406,
     "user": {
      "displayName": "Olya Chistotina",
      "userId": "09379171093877778864"
     },
     "user_tz": -180
    },
    "id": "HFUcMWPtU0jQ",
    "outputId": "ccc92aa5-e3f7-420c-c8b2-becd03ebb9bb"
   },
   "outputs": [],
   "source": [
    "! pip install \"numpy<2\""
   ]
  },
  {
   "cell_type": "code",
   "execution_count": null,
   "metadata": {
    "id": "MS28-QZ0PKnj"
   },
   "outputs": [],
   "source": [
    "import pandas as pd\n",
    "import numpy as np\n",
    "from surprise import Dataset, Reader, SVD\n",
    "from surprise.model_selection import train_test_split\n",
    "from sklearn.metrics import mean_squared_error, mean_absolute_error\n",
    "import implicit\n",
    "import scipy.sparse as sparse\n",
    "from surprise.model_selection import GridSearchCV\n",
    "from catboost import CatBoostRegressor"
   ]
  },
  {
   "cell_type": "markdown",
   "metadata": {
    "id": "0i6raHKDihlO"
   },
   "source": [
    "#### Загрузка данных"
   ]
  },
  {
   "cell_type": "code",
   "execution_count": null,
   "metadata": {
    "colab": {
     "base_uri": "https://localhost:8080/"
    },
    "executionInfo": {
     "elapsed": 560,
     "status": "ok",
     "timestamp": 1758882056051,
     "user": {
      "displayName": "Olya Chistotina",
      "userId": "09379171093877778864"
     },
     "user_tz": -180
    },
    "id": "-XKZBT0AJM5L",
    "outputId": "869fc48c-b557-40db-e734-b74160322861"
   },
   "outputs": [],
   "source": [
    "import pandas as pd\n",
    "# Загружаем данные\n",
    "u1_base = pd.read_csv('u1.base', sep='\\t', names=['user_id', 'item_id', 'rating', 'timestamp'])\n",
    "u1_test = pd.read_csv('u1.test', sep='\\t', names=['user_id', 'item_id', 'rating', 'timestamp'])\n",
    "\n",
    "# Оставляем нужные колонки\n",
    "u1_base = u1_base.drop(columns='timestamp')\n",
    "u1_test = u1_test.drop(columns='timestamp')\n",
    "\n",
    "print(f\"Train set shape: {u1_base.shape}, Test set shape: {u1_test.shape}\")"
   ]
  },
  {
   "cell_type": "code",
   "execution_count": null,
   "metadata": {
    "executionInfo": {
     "elapsed": 22,
     "status": "ok",
     "timestamp": 1758882056978,
     "user": {
      "displayName": "Olya Chistotina",
      "userId": "09379171093877778864"
     },
     "user_tz": -180
    },
    "id": "juhTFA2-imqm"
   },
   "outputs": [],
   "source": [
    "column_names = ['item_id', 'title' , 'release date','video_release_date',\n",
    "              'IMDb URL', 'unknown','Action', 'Adventure','Animation',\n",
    "              'Children', 'Comedy' , 'Crime','Documentary', 'Drama', 'Fantasy',\n",
    "              'Film-Noir', 'Horror' , 'Musical', 'Mystery', 'Romance','Sci-Fi',\n",
    "              'Thriller', 'War', 'Western']\n",
    "\n",
    "# Загружаем файл, разделитель — табуляция ('\\t')\n",
    "item_df = pd.read_csv('u.item', sep='|', names=column_names,encoding='latin-1')\n",
    "movies = item_df[['item_id', 'title']]\n"
   ]
  },
  {
   "cell_type": "code",
   "execution_count": null,
   "metadata": {
    "id": "0o2ab64xO882"
   },
   "outputs": [],
   "source": [
    "users = pd.read_csv('u.user', sep='|', header=None, names=['user_id', 'age','gender','occupation', 'zip code'])"
   ]
  },
  {
   "cell_type": "markdown",
   "metadata": {
    "id": "TRQKkNJMLE6P"
   },
   "source": [
    "#### Коллаборативная фильтрация с использованием Surprise (SVD)"
   ]
  },
  {
   "cell_type": "markdown",
   "metadata": {
    "id": "gBOhiS9rjkQX"
   },
   "source": [
    "- *Surprise* — это Python-библиотека, созданная специально для построения и оценки рекомендательных систем. Она предоставляет множество алгоритмов для коллаборативной фильтрации, включая SVD (Singular Value Decomposition), один из самых популярных методов матричной факторизации.\n",
    "\n",
    "- *SVD* — метод матричной факторизации, который разлагает матрицу пользователь-товар на две низкоразмерные матрицы (пользователи и товары), позволяя прогнозировать скрытые предпочтения и рекомендовать новые объекты на основе этих факторов. Обучается он итеративно с оптимизацией ошибки предсказания по известным рейтингам пользователей."
   ]
  },
  {
   "cell_type": "code",
   "execution_count": null,
   "metadata": {
    "colab": {
     "base_uri": "https://localhost:8080/"
    },
    "executionInfo": {
     "elapsed": 2267,
     "status": "ok",
     "timestamp": 1758805623150,
     "user": {
      "displayName": "Olya Chistotina",
      "userId": "09379171093877778864"
     },
     "user_tz": -180
    },
    "id": "RBgA1id3K3Es",
    "outputId": "c6d3ec00-5b6f-47fc-8186-29e8bdc4ed9e"
   },
   "outputs": [],
   "source": [
    "from surprise import Dataset, Reader, SVD\n",
    "from surprise.model_selection import train_test_split\n",
    "from sklearn.metrics import mean_squared_error, mean_absolute_error\n",
    "import pickle\n",
    "import numpy as np\n",
    "reader = Reader(rating_scale=(1, 5)) # Создаем объект Reader, который задает шкалу рейтингов от 1 до 5\n",
    "\n",
    "dataset_train = Dataset.load_from_df(u1_base[['user_id', 'item_id', 'rating']], reader)\n",
    "trainset = dataset_train.build_full_trainset()# Строим объект trainset для обучения\n",
    "\n",
    "# Создаем тестовый датасет в виде списка кортежей (user_id, item_id, рейтинг) из u1_test\n",
    "testset = list(zip(u1_test['user_id'], u1_test['item_id'], u1_test['rating']))\n",
    "\n",
    "svd = SVD(n_factors=50, reg_all=0.02, random_state=42)\n",
    "svd.fit(trainset)\n",
    "\n",
    "svd_predictions = svd.test(testset)# predict только для одной пары,а test() для всего набора; возвращает список объектов(uid-user_id,iid-item_id,r_ui-реальный рейтинг,est-предсказанный рейтинг)\n",
    "y_true = [pred.r_ui for pred in svd_predictions]\n",
    "y_pred = [pred.est for pred in svd_predictions]\n",
    "\n",
    "rmse_svd = np.sqrt(mean_squared_error(y_true, y_pred))\n",
    "mae_svd = mean_absolute_error(y_true, y_pred)\n",
    "\n",
    "print(f'SVD RMSE: {rmse_svd:.4f}, MAE: {mae_svd:.4f}')\n",
    "\n",
    "# Сохраняем модель\n",
    "with open('svd_model.pkl', 'wb') as f_out:\n",
    "    pickle.dump(svd, f_out)\n"
   ]
  },
  {
   "cell_type": "markdown",
   "metadata": {
    "id": "Zh_lFGiIK7CR"
   },
   "source": [
    "#### Коллаборативная фильтрация с implicit (ALS)"
   ]
  },
  {
   "cell_type": "markdown",
   "metadata": {
    "id": "XO2WObc4rTu5"
   },
   "source": [
    "- Библиотека Implicit применяет модели коллаборативной фильтрации, оптимизированные для работы с неявными данными (просмотры, клики, покупки без рейтингов). В основе часто лежит матричная факторизация ALS (Alternating Least Squares), которая эффективно работает с большими разреженными данными и минимизирует ошибку для неявных сигналов взаимодействия."
   ]
  },
  {
   "cell_type": "code",
   "execution_count": null,
   "metadata": {
    "colab": {
     "base_uri": "https://localhost:8080/",
     "height": 190,
     "referenced_widgets": [
      "d3230202ccac4dfb9f7b1928123b7d98",
      "1047790c76454dd691f75cc534580be2",
      "a162581b57f546ed879e2cb309eb2075",
      "6ba9b3703ae04f2590b275276b9ccd73",
      "0065d0b3e3bf4fce9a61c25fde4a7702",
      "2e4c53f6cfb74e3e9196e3296b3e6b11",
      "61617f1ca21e4743804cbe808ac6e8a4",
      "a72e19f07ff24ff88e5e70c6aff3b704",
      "0029253833d3470587e97f6f6fed0d22",
      "255f3687a1cd4c6188ae50b1c083fff3",
      "2867d94ff05b48bb87afb2992da4700d"
     ]
    },
    "executionInfo": {
     "elapsed": 6934,
     "status": "ok",
     "timestamp": 1758714359661,
     "user": {
      "displayName": "Olya Chistotina",
      "userId": "09379171093877778864"
     },
     "user_tz": -180
    },
    "id": "wtK0-GOqLUPY",
    "outputId": "2e0ede57-a385-4c9a-ca5a-80c90228a83f"
   },
   "outputs": [],
   "source": [
    "user_item = sparse.coo_matrix((np.ones(len(u1_base)), (u1_base['user_id'], u1_base['item_id'])))\n",
    "user_item_csr = user_item.tocsr()\n",
    "\n",
    "# Инициализация модели ALS\n",
    "model_als = implicit.als.AlternatingLeastSquares(factors=50, regularization=0.01, iterations=20)\n",
    "\n",
    "# Обучение модели\n",
    "model_als.fit(user_item_csr.T)\n",
    "\n",
    "# Функция предсказания (без .get() — обычные numpy массивы)\n",
    "def predict_als(user, item):\n",
    "    user_vec = model_als.user_factors[user]\n",
    "    item_vec = model_als.item_factors[item]\n",
    "    return np.dot(user_vec, item_vec)\n",
    "\n",
    "# Оценка модели\n",
    "als_preds = []\n",
    "for idx, row in u1_test.iterrows():\n",
    "    user = row['user_id']\n",
    "    item = row['item_id']\n",
    "    true_rating = row['rating']\n",
    "    try:\n",
    "        pred_rating = predict_als(user, item)\n",
    "    except IndexError:\n",
    "        pred_rating = np.mean(u1_base['rating'])\n",
    "    als_preds.append((true_rating, pred_rating))\n",
    "\n",
    "y_true_als = [x[0] for x in als_preds]\n",
    "y_pred_als = [x[1] for x in als_preds]\n",
    "\n",
    "from sklearn.metrics import mean_squared_error, mean_absolute_error\n",
    "rmse_als = np.sqrt(mean_squared_error(y_true_als, y_pred_als))\n",
    "mae_als = mean_absolute_error(y_true_als, y_pred_als)\n",
    "\n",
    "print(f'Implicit ALS GPU RMSE: {rmse_als:.4f}, MAE: {mae_als:.4f}')"
   ]
  },
  {
   "cell_type": "markdown",
   "metadata": {
    "id": "khKFnR89cyrd"
   },
   "source": [
    "####  Ансамблирование и улучшение моделей"
   ]
  },
  {
   "cell_type": "markdown",
   "metadata": {
    "id": "IcIruqkeFMIG"
   },
   "source": [
    "##### Подбор гиперпараметров для SVD с GridSearchCV (Surprise)"
   ]
  },
  {
   "cell_type": "code",
   "execution_count": null,
   "metadata": {
    "colab": {
     "base_uri": "https://localhost:8080/"
    },
    "executionInfo": {
     "elapsed": 35348,
     "status": "ok",
     "timestamp": 1758714336821,
     "user": {
      "displayName": "Olya Chistotina",
      "userId": "09379171093877778864"
     },
     "user_tz": -180
    },
    "id": "n2mZ0Np7JZzW",
    "outputId": "75f04f53-9ae0-4022-c54d-9195f20ec170"
   },
   "outputs": [],
   "source": [
    "reader = Reader(rating_scale=(1, 5))\n",
    "data_surprise = Dataset.load_from_df(u1_base[['user_id', 'item_id', 'rating']], reader)\n",
    "\n",
    "param_grid = {\n",
    "    'n_factors': [20, 50, 100],\n",
    "    'reg_all': [0.02, 0.05],\n",
    "    'lr_all': [0.002, 0.005]\n",
    "}\n",
    "\n",
    "gs = GridSearchCV(SVD, param_grid, measures=['rmse'], cv=3)\n",
    "gs.fit(data_surprise)\n",
    "\n",
    "print(\"Лучшие параметры SVD:\", gs.best_params['rmse'])\n",
    "print(\"Лучшее RMSE (CV):\", gs.best_score['rmse'])\n",
    "\n",
    "# Обучаем лучшую модель SVD\n",
    "best_svd = gs.best_estimator['rmse']\n",
    "trainset = data_surprise.build_full_trainset()\n",
    "best_svd.fit(trainset)\n",
    "\n",
    "# Предсказания SVD на тесте\n",
    "testset = list(zip(u1_test['user_id'], u1_test['item_id'], u1_test['rating']))\n",
    "svd_predictions = best_svd.test(testset)\n",
    "y_true_svd = [pred.r_ui for pred in svd_predictions]\n",
    "y_pred_svd = [pred.est for pred in svd_predictions]\n",
    "\n",
    "rmse_svd = np.sqrt(mean_squared_error(y_true_svd, y_pred_svd))\n",
    "mae_svd = mean_absolute_error(y_true_svd, y_pred_svd)\n",
    "\n",
    "print(f\"SVD RMSE: {rmse_svd:.4f}, MAE: {mae_svd:.4f}\")"
   ]
  },
  {
   "cell_type": "markdown",
   "metadata": {
    "id": "IxbEznH_FYiu"
   },
   "source": [
    "##### Ансамблирование предсказаний (усреднение SVD и implicit)"
   ]
  },
  {
   "cell_type": "code",
   "execution_count": null,
   "metadata": {
    "colab": {
     "base_uri": "https://localhost:8080/"
    },
    "executionInfo": {
     "elapsed": 1547,
     "status": "ok",
     "timestamp": 1758714374834,
     "user": {
      "displayName": "Olya Chistotina",
      "userId": "09379171093877778864"
     },
     "user_tz": -180
    },
    "id": "k5jycY3tJ6CF",
    "outputId": "f127060b-888e-4708-8ba1-5d03ea05c165"
   },
   "outputs": [],
   "source": [
    "#  best_svd уже обучена с использованием GridSearchCV\n",
    "# - model_als —  обученная модель implicit ALS\n",
    "\n",
    "# 1. Получаем предсказания из SVD\n",
    "testset = list(zip(u1_test['user_id'], u1_test['item_id'], u1_test['rating']))\n",
    "svd_preds = best_svd.test(testset)\n",
    "y_true = [pred.r_ui for pred in svd_preds]\n",
    "y_pred_svd = [pred.est for pred in svd_preds]\n",
    "\n",
    "# 2. Получаем предсказания из ALS\n",
    "def predict_als(user, item):\n",
    "    try:\n",
    "        return model_als.user_factors[user].dot(model_als.item_factors[item])\n",
    "    except IndexError:\n",
    "        return np.mean(u1_test['rating'])  # средний рейтинг если отсутствуют\n",
    "\n",
    "y_pred_als = [predict_als(row['user_id'], row['item_id']) for _, row in u1_test.iterrows()]\n",
    "\n",
    "# 3. Усреднение предсказаний\n",
    "ensemble_pred = [(svd + als) / 2 for svd, als in zip(y_pred_svd, y_pred_als)]\n",
    "\n",
    "# 4. Оценка RMSE и MAE\n",
    "rmse_ens = np.sqrt(mean_squared_error(y_true, ensemble_pred))\n",
    "mae_ens = mean_absolute_error(y_true, ensemble_pred)\n",
    "print(f\"Ансамбль RMSE: {rmse_ens:.4f}, MAE: {mae_ens:.4f}\")"
   ]
  },
  {
   "cell_type": "markdown",
   "metadata": {
    "id": "ByLcnaeBFd6v"
   },
   "source": [
    "##### Добавление CatBoost на признаки пользователей"
   ]
  },
  {
   "cell_type": "markdown",
   "metadata": {
    "id": "717gHNmMvpIe"
   },
   "source": [
    "- *CatBoost* — градиентный бустинг на деревьях решений, который может использоваться для рекомендательных систем, строя модель, предсказывающую рейтинг или вероятность взаимодействия, учитывая признаки пользователей, товаров и контекста. Подходит для гибридных рекомендаций с использованием табличных данных и категориальных признаков."
   ]
  },
  {
   "cell_type": "code",
   "execution_count": null,
   "metadata": {
    "colab": {
     "base_uri": "https://localhost:8080/"
    },
    "executionInfo": {
     "elapsed": 11744,
     "status": "ok",
     "timestamp": 1758712632688,
     "user": {
      "displayName": "Olya Chistotina",
      "userId": "09379171093877778864"
     },
     "user_tz": -180
    },
    "id": "fhVXc3U0czkg",
    "outputId": "8153b9a9-6d79-4566-c5dc-2200fe685576"
   },
   "outputs": [],
   "source": [
    "train_df = u1_base.merge(users, on='user_id')\n",
    "test_df = u1_test.merge(users, on='user_id')\n",
    "\n",
    "features_to_drop = ['rating', 'user_id', 'item_id']\n",
    "\n",
    "X_train = train_df.drop(columns=features_to_drop)\n",
    "y_train = train_df['rating']\n",
    "\n",
    "X_test = test_df.drop(columns=features_to_drop)\n",
    "y_test = test_df['rating']\n",
    "\n",
    "# Определяем категориальные признаки автоматически\n",
    "cat_features = X_train.select_dtypes(include=['object']).columns.tolist()\n",
    "cat_features_indices = [X_train.columns.get_loc(col) for col in cat_features]\n",
    "\n",
    "model_cb = CatBoostRegressor(iterations=300, cat_features=cat_features_indices, verbose=100, random_seed=42)\n",
    "model_cb.fit(X_train, y_train)\n",
    "\n",
    "cb_preds = model_cb.predict(X_test)\n",
    "\n",
    "rmse_cb = np.sqrt(mean_squared_error(y_test, cb_preds))\n",
    "mae_cb = mean_absolute_error(y_test, cb_preds)\n",
    "\n",
    "print(f'CatBoost RMSE: {rmse_cb:.4f}, MAE: {mae_cb:.4f}')"
   ]
  },
  {
   "cell_type": "code",
   "execution_count": null,
   "metadata": {
    "colab": {
     "base_uri": "https://localhost:8080/",
     "height": 206
    },
    "executionInfo": {
     "elapsed": 42,
     "status": "ok",
     "timestamp": 1758797838766,
     "user": {
      "displayName": "Olya Chistotina",
      "userId": "09379171093877778864"
     },
     "user_tz": -180
    },
    "id": "xK4EQ5iXgDlq",
    "outputId": "24acbf94-7edf-43bf-ede4-6c53061cc781"
   },
   "outputs": [],
   "source": [
    "import pandas as pd\n",
    "\n",
    "data = {\n",
    "    'Метод': ['Surprise(SVD)', 'Implicit ALS', 'GridSearchCV (Surprise)','Ансамбль','CatBoost'],\n",
    "    'RMSE': [0.9519, 3.5127, 0.9519,1.9413,1.0648],\n",
    "    'MAE': [0.7510, 3.2531,0.7521,1.7189,0.8541]\n",
    "}\n",
    "\n",
    "df = pd.DataFrame(data)\n",
    "df.style.highlight_min(subset=['RMSE', 'MAE'], color='lightgreen')"
   ]
  },
  {
   "cell_type": "markdown",
   "metadata": {
    "id": "tbNTpmbshW3A"
   },
   "source": [
    "Вывод:\n",
    "- лучше всего справилась библиотека Surprise, на втором месте CatBoost.\n",
    "- Implicit ALS показал низкий результат и ансамбль с ним только ухудшает значение метрики.\n",
    "- для библиотеки Surprise уже изначально были использованы лучшие гиперпараметры, поэтому GridSearchCV не улучшил модель."
   ]
  },
  {
   "cell_type": "markdown",
   "metadata": {
    "id": "Pfv5ywHV7u-2"
   },
   "source": [
    "#### Сервис на Flask"
   ]
  },
  {
   "cell_type": "code",
   "execution_count": null,
   "metadata": {
    "colab": {
     "base_uri": "https://localhost:8080/"
    },
    "executionInfo": {
     "elapsed": 233,
     "status": "ok",
     "timestamp": 1758882319126,
     "user": {
      "displayName": "Olya Chistotina",
      "userId": "09379171093877778864"
     },
     "user_tz": -180
    },
    "id": "YQ8ICXS7Fz6d",
    "outputId": "4b725350-2422-4a1b-8b83-28e5acff7803"
   },
   "outputs": [],
   "source": [
    "from surprise import Dataset, Reader\n",
    "\n",
    "# Читаем исходные данные u1_base (должен быть DataFrame с user_id, item_id, rating)\n",
    "reader = Reader(rating_scale=(1, 5))\n",
    "dataset = Dataset.load_from_df(u1_base[['user_id', 'item_id', 'rating']], reader)\n",
    "\n",
    "# Строим trainset для работы с моделью\n",
    "trainset = dataset.build_full_trainset()\n",
    "\n",
    "print(\"Trainset создан\")"
   ]
  },
  {
   "cell_type": "code",
   "execution_count": null,
   "metadata": {
    "colab": {
     "base_uri": "https://localhost:8080/"
    },
    "executionInfo": {
     "elapsed": 8502,
     "status": "ok",
     "timestamp": 1758880430791,
     "user": {
      "displayName": "Olya Chistotina",
      "userId": "09379171093877778864"
     },
     "user_tz": -180
    },
    "id": "PDT_rjPLGTjj",
    "outputId": "287a75f7-4615-461f-9868-9cded596a86b"
   },
   "outputs": [],
   "source": [
    "! pip install flask-ngrok pyngrok"
   ]
  },
  {
   "cell_type": "code",
   "execution_count": null,
   "metadata": {
    "colab": {
     "base_uri": "https://localhost:8080/"
    },
    "executionInfo": {
     "elapsed": 92030,
     "status": "ok",
     "timestamp": 1758883313761,
     "user": {
      "displayName": "Olya Chistotina",
      "userId": "09379171093877778864"
     },
     "user_tz": -180
    },
    "id": "bvmgsYBk70i2",
    "outputId": "91022900-d658-4d82-940b-1ad9c8261f8d"
   },
   "outputs": [],
   "source": [
    "from flask import Flask, request, jsonify\n",
    "import pickle\n",
    "import pandas as pd\n",
    "from pyngrok import ngrok\n",
    "\n",
    "\n",
    "# Вставьте сюда свой токен с https://dashboard.ngrok.com/get-started/your-authtoken\n",
    "NGROK_AUTH_TOKEN = \"33C2Q98vB0quhZdm7WqhcNaY4Qq_6qoLCcZLk6Nw6o6LQDvy3\"\n",
    "ngrok.set_auth_token(NGROK_AUTH_TOKEN)\n",
    "\n",
    "app = Flask(__name__)\n",
    "\n",
    "# Загрузка модели\n",
    "with open('/content/drive/MyDrive/svd_model.pkl', 'rb') as f_in:\n",
    "    model = pickle.load(f_in)\n",
    "\n",
    "# Загрузка таблицы с фильмами\n",
    "movies = pd.read_csv('/content/drive/MyDrive/movies.csv')\n",
    "\n",
    "def get_top_n_recommendations(algo, user_id, trainset, n=10):\n",
    "    all_items = set(trainset.all_items())\n",
    "    try:\n",
    "        inner_uid = trainset.to_inner_uid(user_id)\n",
    "        seen = {j for (j, _) in trainset.ur[inner_uid]}\n",
    "    except ValueError:\n",
    "        seen = set()  # Пользователь не найден, считаем, что фильмы не были просмотрены\n",
    "        # Извлекаем все сырые рейтинги из trainset\n",
    "        ratings = [(trainset.to_raw_iid(iid), rating) for (uid, iid, rating) in trainset.all_ratings()]\n",
    "        ratings_df = pd.DataFrame(ratings, columns=['item_id', 'rating'])\n",
    "        # Получаем средний рейтинг на item_id\n",
    "        ratings_agg = ratings_df.groupby('item_id', as_index=False)['rating'].mean()\n",
    "        merged = movies.merge(ratings_agg, on='item_id', how='left')\n",
    "        popular = merged.sort_values(by='rating', ascending=False).head(n)\n",
    "        return popular[['title', 'rating']].to_dict(orient='records')\n",
    "\n",
    "    predictions = []\n",
    "    for item_id in all_items - seen:\n",
    "        pred = algo.predict(user_id, trainset.to_raw_iid(item_id))\n",
    "        predictions.append((trainset.to_raw_iid(item_id), pred.est))\n",
    "    predictions.sort(key=lambda x: x[1], reverse=True)\n",
    "\n",
    "    top_df = pd.DataFrame(predictions[:n], columns=['item_id', 'predicted_rating'])\n",
    "    top_df = top_df.merge(movies, on='item_id', how='left')\n",
    "    return top_df[['title', 'predicted_rating']].to_dict(orient='records')\n",
    "\n",
    "@app.route('/recommend', methods=['GET'])\n",
    "def recommend():\n",
    "    user_id = request.args.get('user_id', type=int)\n",
    "    recommendations = get_top_n_recommendations(model, user_id, trainset, n=10)\n",
    "    return jsonify(recommendations)\n",
    "\n",
    "if __name__ == '__main__':\n",
    "    port = 5000\n",
    "    public_url = ngrok.connect(port).public_url\n",
    "    print(f\"Ngrok tunnel URL: {public_url}\")\n",
    "    app.run(port=port)"
   ]
  }
 ],
 "metadata": {
  "colab": {
   "authorship_tag": "ABX9TyNr/dRz4Wbby9oaPnDQLzo+",
   "provenance": []
  },
  "kernelspec": {
   "display_name": "Python 3",
   "name": "python3"
  },
  "language_info": {
   "name": "python"
  }
 },
 "nbformat": 4,
 "nbformat_minor": 0
}
